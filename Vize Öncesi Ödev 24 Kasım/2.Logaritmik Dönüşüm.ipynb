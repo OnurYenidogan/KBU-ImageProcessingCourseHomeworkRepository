{
 "cells": [
  {
   "cell_type": "code",
   "execution_count": null,
   "id": "1cab0b3a",
   "metadata": {},
   "outputs": [],
   "source": [
    "import cv2\n",
    "import numpy as np\n",
    "# Load the image\n",
    "img = cv2.imread('Onur.JPG',0)\n",
    "# Apply log transform\n",
    "img_log = (np.log(img+1)/(np.log(1+np.max(img))))*255\n",
    "# Specify the data type\n",
    "img_log = np.array(img_log,dtype=np.uint8)\n",
    "# Display the image\n",
    "cv2.imshow('log_image',img_log )\n",
    "cv2.imshow('original_img',img)\n",
    "cv2.waitKey(0)"
   ]
  }
 ],
 "metadata": {
  "kernelspec": {
   "display_name": "Python 3 (ipykernel)",
   "language": "python",
   "name": "python3"
  },
  "language_info": {
   "codemirror_mode": {
    "name": "ipython",
    "version": 3
   },
   "file_extension": ".py",
   "mimetype": "text/x-python",
   "name": "python",
   "nbconvert_exporter": "python",
   "pygments_lexer": "ipython3",
   "version": "3.9.13"
  }
 },
 "nbformat": 4,
 "nbformat_minor": 5
}
