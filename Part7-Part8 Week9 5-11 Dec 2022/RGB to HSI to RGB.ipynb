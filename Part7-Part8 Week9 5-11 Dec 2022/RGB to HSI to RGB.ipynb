{
 "cells": [
  {
   "cell_type": "code",
   "execution_count": null,
   "id": "493938f4",
   "metadata": {},
   "outputs": [],
   "source": [
    "import cv2\n",
    "picture1 = cv2.imread(\"../Onur.jpg\")\n",
    "hsvImage = cv2.cvtColor(picture1, cv2.COLOR_RGB2HSV)\n",
    "rgbImage = cv2.cvtColor(hsvImage, cv2.COLOR_HSV2RGB)\n",
    "cv2.imshow(\"Original\",picture1)\n",
    "cv2.imshow(\"hsvImage\",hsvImage)\n",
    "cv2.imshow(\"rgbImage\",rgbImage)\n",
    "cv2.waitKey(0)\n",
    "cv2.destroyAllWindows()"
   ]
  },
  {
   "cell_type": "code",
   "execution_count": null,
   "id": "f0d7fc4b",
   "metadata": {},
   "outputs": [],
   "source": []
  }
 ],
 "metadata": {
  "kernelspec": {
   "display_name": "Python 3 (ipykernel)",
   "language": "python",
   "name": "python3"
  },
  "language_info": {
   "codemirror_mode": {
    "name": "ipython",
    "version": 3
   },
   "file_extension": ".py",
   "mimetype": "text/x-python",
   "name": "python",
   "nbconvert_exporter": "python",
   "pygments_lexer": "ipython3",
   "version": "3.9.13"
  }
 },
 "nbformat": 4,
 "nbformat_minor": 5
}
